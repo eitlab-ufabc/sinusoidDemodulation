{
  "nbformat": 4,
  "nbformat_minor": 0,
  "metadata": {
    "colab": {
      "provenance": []
    },
    "kernelspec": {
      "name": "python3",
      "display_name": "Python 3"
    },
    "language_info": {
      "name": "python"
    }
  },
  "cells": [
    {
      "cell_type": "markdown",
      "source": [
        "# Techniques for estimating parameters of sinusoidal signals sampled in Electrical Impedance Tomography"
      ],
      "metadata": {
        "id": "65gHYjal2Pnv"
      }
    },
    {
      "cell_type": "markdown",
      "source": [
        "## Demodulation when the frequency $f$ is known"
      ],
      "metadata": {
        "id": "uV9zaNlF2WLM"
      }
    },
    {
      "cell_type": "markdown",
      "source": [
        "### Least-squares method"
      ],
      "metadata": {
        "id": "d-madNAj2b8Q"
      }
    },
    {
      "cell_type": "code",
      "execution_count": 1,
      "metadata": {
        "colab": {
          "base_uri": "https://localhost:8080/"
        },
        "id": "t4t7kUpr18SO",
        "outputId": "05c291ac-3cb0-4990-8e64-0dbc931862a3"
      },
      "outputs": [
        {
          "output_type": "stream",
          "name": "stdout",
          "text": [
            "Real amplitude: 2.0000; Estimated amplitude: 2.0018; Error: 0.09%\n",
            "Real phase: 0.7854; Estimated phase: 0.7844; Error: -0.13%\n"
          ]
        }
      ],
      "source": [
        "import numpy as np\n",
        "\n",
        "# Generate a discrete sinusoidal signal with noise\n",
        "N = 1000              # Number of measurements\n",
        "sample_freq = 1000    # Sample frequency, in Hz\n",
        "t = np.array(range(N))/sample_freq\n",
        "f = 10                # Signal frequency in Hz\n",
        "A = 2                 # Signal amplitude\n",
        "phi = np.pi/4         # Signal phase\n",
        "y = A*np.sin(2*np.pi*f*t + phi) + np.random.normal(scale=0.1, size=len(t))\n",
        "\n",
        "# Compute H\n",
        "col1 = np.sin(2 * np.pi * f * t)\n",
        "col2 = np.cos(2 * np.pi * f * t)\n",
        "col3 = np.ones(t.shape)\n",
        "H = np.column_stack((col1, col2, col3))\n",
        "\n",
        "# Compute the pseudo-inverse of H\n",
        "pinvH = np.linalg.pinv(H)\n",
        "\n",
        "# Find x_lsq = pinvH * y\n",
        "x_lsq = np.matmul(pinvH,y)\n",
        "\n",
        "# Print the estimated parameters\n",
        "A_est = np.sqrt(x_lsq[0]**2 + x_lsq[1]**2)\n",
        "phi_est = np.arctan2(x_lsq[1],x_lsq[0])\n",
        "print(f'Real amplitude: {A:.4f}; Estimated amplitude: {A_est:.4f}; Error: {100*(A_est-A)/A:.2f}%')\n",
        "print(f'Real phase: {phi:.4f}; Estimated phase: {phi_est:.4f}; Error: {100*(phi_est-phi)/phi:.2f}%')"
      ]
    },
    {
      "cell_type": "markdown",
      "source": [
        "### Discrete Fourier Transform method"
      ],
      "metadata": {
        "id": "LYhyV_aO2sUp"
      }
    },
    {
      "cell_type": "code",
      "source": [
        "import numpy as np\n",
        "\n",
        "# Generate a discrete sinusoidal signal with noise\n",
        "N = 1000              # Number of measurements (10 cycles)\n",
        "sampling_freq = 1000  # Sampling frequency, in Hz\n",
        "t = np.array(range(N))/sampling_freq\n",
        "f = 10                # Signal frequency in Hz\n",
        "A = 2                 # Signal amplitude\n",
        "phi = np.pi/4         # Signal phase\n",
        "y = A*np.cos(2*np.pi*f*t + phi) + np.random.normal(scale=0.1, size=len(t))\n",
        "\n",
        "# Compute DFT component\n",
        "df = sampling_freq/N\n",
        "freq = 10;            # expected frequency in Hz\n",
        "k = np.round(freq/df)\n",
        "X = 0;\n",
        "for n in range(N):\n",
        "  X += y[n] * np.exp(-2j * np.pi * k * n / N)\n",
        "\n",
        "# Estimate amplitude and phase at peak frequency\n",
        "A_est = 2 * np.abs(X) / N\n",
        "phi_est = np.arctan2(X.imag,X.real)\n",
        "\n",
        "print(f'Real amplitude: {A:.4f}; Estimated amplitude: {A_est:.4f}; Error: {100*(A_est-A)/A:.2f}%')\n",
        "print(f'Real phase: {phi:.4f}; Estimated phase: {phi_est:.4f}; Error: {100*(phi_est-phi)/phi:.2f}%')"
      ],
      "metadata": {
        "colab": {
          "base_uri": "https://localhost:8080/"
        },
        "id": "hCRnaSpv2k2W",
        "outputId": "5158e9d6-80f4-4766-ead9-a8b544f94de0"
      },
      "execution_count": 2,
      "outputs": [
        {
          "output_type": "stream",
          "name": "stdout",
          "text": [
            "Real amplitude: 2.0000; Estimated amplitude: 2.0000; Error: -0.00%\n",
            "Real phase: 0.7854; Estimated phase: 0.7855; Error: 0.01%\n"
          ]
        }
      ]
    },
    {
      "cell_type": "markdown",
      "source": [
        "DFT with zero-padding"
      ],
      "metadata": {
        "id": "iPVnfBdcItB5"
      }
    },
    {
      "cell_type": "code",
      "source": [
        "import numpy as np\n",
        "\n",
        "# Generate a discrete sinusoidal signal with noise\n",
        "N = 2000              # Number of measurements (21 cycles)\n",
        "sampling_freq = 1000  # Sampling frequency, in Hz\n",
        "t = np.array(range(N))/sampling_freq\n",
        "f = 10.5              # Signal frequency in Hz\n",
        "A = 2                 # Signal amplitude\n",
        "phi = np.pi/4         # Signal phase\n",
        "y = A*np.cos(2*np.pi*f*t + phi) + np.random.normal(scale=0.1, size=len(t))\n",
        "\n",
        "# Compute DFT component\n",
        "N_zp = N*2           # considering N zeros added to signal\n",
        "df = sampling_freq/N_zp\n",
        "freq = f;            # expected frequency in Hz\n",
        "k = np.round(freq/df)\n",
        "X = 0;\n",
        "for n in range(N):   # zeros do not need to be added\n",
        "  X += y[n] * np.exp(-2j * np.pi * k * n / N_zp)\n",
        "\n",
        "# Estimate amplitude and phase at peak frequency\n",
        "A_est = 2 * np.abs(X) / N\n",
        "phi_est = np.arctan2(X.imag,X.real)\n",
        "\n",
        "print(f'Real amplitude: {A:.4f}; Estimated amplitude: {A_est:.4f}; Error: {100*(A_est-A)/A:.2f}%')\n",
        "print(f'Real phase: {phi:.4f}; Estimated phase: {phi_est:.4f}; Error: {100*(phi_est-phi)/phi:.2f}%')\n",
        "\n",
        "# Second approach, at any given frequency\n",
        "X_f = 0\n",
        "for n in range(N):   # zeros do not need to be added\n",
        "  X_f += y[n] * np.exp(-2j * np.pi * freq * n / sampling_freq)\n",
        "\n",
        "# Estimate amplitude and phase at peak frequency\n",
        "A_est_f = 2 * np.abs(X_f) / N\n",
        "phi_est_f = np.arctan2(X_f.imag,X_f.real)\n",
        "\n",
        "print('Second approach:')\n",
        "print(f'Real amplitude: {A:.4f}; Estimated amplitude: {A_est_f:.4f}; Error: {100*(A_est_f-A)/A:.2f}%')\n",
        "print(f'Real phase: {phi:.4f}; Estimated phase: {phi_est_f:.4f}; Error: {100*(phi_est_f-phi)/phi:.2f}%')"
      ],
      "metadata": {
        "colab": {
          "base_uri": "https://localhost:8080/"
        },
        "id": "15nC0Jw_2wVY",
        "outputId": "00fa165b-7b94-4362-a3eb-c080b3dfd46c"
      },
      "execution_count": 3,
      "outputs": [
        {
          "output_type": "stream",
          "name": "stdout",
          "text": [
            "Real amplitude: 2.0000; Estimated amplitude: 1.9982; Error: -0.09%\n",
            "Real phase: 0.7854; Estimated phase: 0.7861; Error: 0.09%\n",
            "Second approach:\n",
            "Real amplitude: 2.0000; Estimated amplitude: 1.9982; Error: -0.09%\n",
            "Real phase: 0.7854; Estimated phase: 0.7861; Error: 0.09%\n"
          ]
        }
      ]
    },
    {
      "cell_type": "markdown",
      "source": [
        "## Demodulation when the frequency $f$ is unknown"
      ],
      "metadata": {
        "id": "IfqE_2RQIsco"
      }
    },
    {
      "cell_type": "markdown",
      "source": [
        "### Least-squares method"
      ],
      "metadata": {
        "id": "bvYqaGYBFuls"
      }
    },
    {
      "cell_type": "code",
      "source": [
        "import numpy as np\n",
        "\n",
        "# Generate a discrete sinusoidal signal with noise\n",
        "N = 1000              # Number of measurements (aprox. 21 cycles)\n",
        "sampling_freq = 1000  # Sampling frequency, in Hz\n",
        "t = np.array(range(N))/sampling_freq\n",
        "f = 10.555            # Signal frequency in Hz\n",
        "A = 2                 # Signal amplitude\n",
        "phi = np.pi/4         # Signal phase\n",
        "c = 0.1               # Signal offset\n",
        "y = A*np.sin(2*np.pi*f*t + phi) + c + np.random.normal(scale=0.1, size=len(t))\n",
        "\n",
        "#   initial guess\n",
        "[Ao, fo, phio, co] = [2.5, 11, 0.0, 0.0]\n",
        "\n",
        "nIterMax = 300        # maximum number of iterations\n",
        "step_size = 1         # can be reduced to improve stability\n",
        "last_error = np.inf\n",
        "for idx in range(nIterMax):\n",
        "  # Compute Ho and so\n",
        "  #   partial derivatives\n",
        "  thetas = 2 * np.pi * fo * t\n",
        "  partialA = np.sin(thetas) * np.cos(phio) + np.cos(thetas) * np.sin(phio)\n",
        "  partialf = ( Ao * np.cos(thetas) * 2 * np.pi * t * np.cos(phio) \n",
        "              - Ao * np.sin(thetas) * 2 * np.pi * t * np.sin(phio) )\n",
        "  partialPhi = -Ao * np.sin(thetas) * np.sin(phio) + A * np.cos(thetas) * np.cos(phio)\n",
        "  partialC = np.ones(t.shape)\n",
        "\n",
        "  Ho = np.column_stack((partialA, partialf, partialPhi, partialC))\n",
        "  so =  Ao * np.sin(2 * np.pi * fo * t + phio) + co - np.matmul(Ho,[Ao, fo, phio, co])\n",
        "\n",
        "  # Compute the pseudo-inverse of Ho\n",
        "  pinvHo = np.linalg.pinv(Ho)\n",
        "\n",
        "  # Find x_lsq = pinvHo * (y - so)\n",
        "  x_lsq = np.matmul(pinvHo,(y-so))\n",
        "  \n",
        "  # Update current estimate\n",
        "  [Ao, fo, phio, co] = [Ao, fo, phio, co] + step_size*(x_lsq-[Ao, fo, phio, co] )\n",
        "\n",
        "  # Interrupt loop if converged\n",
        "  error = np.linalg.norm( y - (Ao * np.sin(2 * np.pi * fo * t + phio) + co) )\n",
        "  if np.abs(error - last_error)<1e-10:\n",
        "    break\n",
        "  last_error = error\n",
        "\n",
        "# Print the estimated parameters\n",
        "[A_est, freq, phi_est, c_est] = x_lsq\n",
        "print(f'Real frequency: {f:.4f}Hz; Estimated peak frequency = {freq:.4f}Hz; Error: {100*(freq-f)/f:.2f}%')\n",
        "print(f'Real amplitude: {A:.4f}; Estimated amplitude: {A_est:.4f}; Error: {100*(A_est-A)/A:.2f}%')\n",
        "print(f'Real phase: {phi:.4f}; Estimated phase: {phi_est:.4f}; Error: {100*(phi_est-phi)/phi:.2f}%')"
      ],
      "metadata": {
        "colab": {
          "base_uri": "https://localhost:8080/"
        },
        "id": "90eG94z8Fxyc",
        "outputId": "d4230753-0cd6-4fff-fbf3-c0399403996e"
      },
      "execution_count": 4,
      "outputs": [
        {
          "output_type": "stream",
          "name": "stdout",
          "text": [
            "Real frequency: 10.5550Hz; Estimated peak frequency = 10.5544Hz; Error: -0.01%\n",
            "Real amplitude: 2.0000; Estimated amplitude: 1.9978; Error: -0.11%\n",
            "Real phase: 0.7854; Estimated phase: 0.7904; Error: 0.64%\n"
          ]
        }
      ]
    },
    {
      "cell_type": "markdown",
      "source": [
        "### Discrete Fourier Transform method"
      ],
      "metadata": {
        "id": "RnSu8GykFgB9"
      }
    },
    {
      "cell_type": "code",
      "source": [
        "import numpy as np\n",
        "\n",
        "# Generate a discrete sinusoidal signal with noise\n",
        "N = 1000              # Number of measurements (aprox. 21 cycles)\n",
        "sampling_freq = 1000  # Sampling frequency, in Hz\n",
        "t = np.array(range(N))/sampling_freq\n",
        "f = 10.555            # Signal frequency in Hz\n",
        "A = 2                 # Signal amplitude\n",
        "phi = np.pi/4         # Signal phase\n",
        "y = A*np.cos(2*np.pi*f*t + phi) + np.random.normal(scale=0.1, size=len(t))\n",
        "\n",
        "# Apply Hamming window to the signal\n",
        "window = [(0.54 + 0.46*np.cos(2 * np.pi * (n-(N-1)/2) / (N-1)))  for n in range(N)]\n",
        "yw = y * window\n",
        "\n",
        "# Find DFT peak\n",
        "freq = 10             # initial guess\n",
        "step = 0.2\n",
        "A_est = -np.inf\n",
        "f_max = 0\n",
        "phi_est = 0\n",
        "for dec in range(4):\n",
        "  for f_idx in np.arange(freq-10*step, freq+10*step, step):\n",
        "    X_f = 0\n",
        "    for n in range(N):\n",
        "      X_f += yw[n] * np.exp(-2j * np.pi * f_idx * n / sampling_freq)\n",
        "    ampl = 2 * np.abs(X_f) / (N*np.mean(window))\n",
        "    if ampl > A_est:\n",
        "      A_est = ampl;\n",
        "      freq = f_idx\n",
        "      phi_est = np.arctan2(X_f.imag,X_f.real)\n",
        "  step = step / 10\n",
        "\n",
        "print(f'Real frequency: {f:.4f}Hz; Estimated peak frequency = {freq:.4f}Hz; Error: {100*(freq-f)/f:.2f}%')\n",
        "print(f'Real amplitude: {A:.4f}; Estimated amplitude: {A_est:.4f}; Error: {100*(A_est-A)/A:.2f}%')\n",
        "print(f'Real phase: {phi:.4f}; Estimated phase: {phi_est:.4f}; Error: {100*(phi_est-phi)/phi:.2f}%')"
      ],
      "metadata": {
        "colab": {
          "base_uri": "https://localhost:8080/"
        },
        "id": "8F-aHqBe0J_z",
        "outputId": "fb3c8232-93de-4187-d085-84b2146bc9d1"
      },
      "execution_count": 5,
      "outputs": [
        {
          "output_type": "stream",
          "name": "stdout",
          "text": [
            "Real frequency: 10.5550Hz; Estimated peak frequency = 10.5544Hz; Error: -0.01%\n",
            "Real amplitude: 2.0000; Estimated amplitude: 2.0045; Error: 0.22%\n",
            "Real phase: 0.7854; Estimated phase: 0.7827; Error: -0.34%\n"
          ]
        }
      ]
    }
  ]
}